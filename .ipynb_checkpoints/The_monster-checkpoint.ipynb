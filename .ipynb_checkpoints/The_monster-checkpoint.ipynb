{
 "cells": [
  {
   "cell_type": "markdown",
   "metadata": {},
   "source": [
    "# Training"
   ]
  },
  {
   "cell_type": "code",
   "execution_count": 956,
   "metadata": {},
   "outputs": [],
   "source": [
    "# -*- coding:utf-8 -*-\n",
    "import os\n",
    "import pickle\n",
    "import numpy as np\n",
    "from math import exp\n",
    "from numpy import array\n",
    "from skimage.color import rgb2ycbcr\n",
    "from skimage.color import ycbcr2rgb\n",
    "from skimage.measure import compare_psnr\n",
    "from skimage.measure import compare_ssim\n",
    "from scipy.signal import medfilt\n",
    "from scipy.signal import convolve2d as conv2\n",
    "from scipy.ndimage.filters import gaussian_filter\n",
    "from scipy.misc import imresize\n",
    "from scipy.signal import convolve\n",
    "from skimage.util import view_as_windows\n",
    "import  skimage.io as io\n",
    "from skimage import data_dir\n",
    "from sklearn.decomposition import dict_learning_online\n",
    "from sklearn.decomposition import MiniBatchDictionaryLearning\n",
    "from sklearn.decomposition import sparse_encode\n",
    "from scipy.io import loadmat\n",
    "from scipy.io import savemat\n",
    "from scipy import sparse as sps\n",
    "import matplotlib.pyplot as plt\n",
    "from sklearn.externals import joblib\n",
    "from math import log\n",
    "from itertools import product\n",
    "from sklearn.decomposition import PCA\n",
    "from sklearn.decomposition import RandomizedPCA\n",
    "from sklearn.cluster import KMeans\n",
    "from sklearn.svm import SVC\n",
    "import copy"
   ]
  },
  {
   "cell_type": "markdown",
   "metadata": {},
   "source": [
    "set the parameters"
   ]
  },
  {
   "cell_type": "code",
   "execution_count": 1001,
   "metadata": {},
   "outputs": [],
   "source": [
    "class Training_par:\n",
    "    def __init__(self):\n",
    "        self.TD_path = 'Data_set/TD2/*.tif'\n",
    "        self.cls_num = 200\n",
    "        self.b = 7\n",
    "        self.ws = 3\n",
    "        self.step = 1\n",
    "        self.delta = 4.5\n",
    "        self.num_blks = 400*(self.b*self.b)*40\n",
    "        self.D0 = []\n",
    "        self.PCA_D = []\n",
    "        self.Kmeans = []\n",
    "        self.AR_D = np.zeros((self.ws*self.ws-1, self.cls_num))"
   ]
  },
  {
   "cell_type": "code",
   "execution_count": 1002,
   "metadata": {},
   "outputs": [],
   "source": [
    "def matlab_style_gauss2D(shape=(3,3),sigma=0.5):\n",
    "    \"\"\"\n",
    "    2D gaussian mask - should give the same result as MATLAB's\n",
    "    fspecial('gaussian',[shape],[sigma])\n",
    "    \"\"\"\n",
    "    m,n = [(ss-1.)/2. for ss in shape]\n",
    "    y,x = np.ogrid[-m:m+1,-n:n+1]\n",
    "    h = np.exp( -(x*x + y*y) / (2.*sigma*sigma) )\n",
    "    h[ h < np.finfo(h.dtype).eps*h.max() ] = 0\n",
    "    sumh = h.sum()\n",
    "    if sumh != 0:\n",
    "        h /= sumh\n",
    "    return h"
   ]
  },
  {
   "cell_type": "code",
   "execution_count": 1654,
   "metadata": {},
   "outputs": [],
   "source": [
    "def get_PCA(x):\n",
    "    '''\n",
    "    x in shape of (n_samples, n_features)\n",
    "    '''\n",
    "    \n",
    "    M = x.shape[0]\n",
    "    N = x.shape[1]\n",
    "    \n",
    "    mx = np.mean(x, 0)\n",
    "    mx2 = np.matlib.repmat(mx, M, 1)\n",
    "\n",
    "    x = x-mx2\n",
    "    \n",
    "    CovX = np.dot(X.T,X)/(M-1)\n",
    "    [P, V] = np.linalg.eig(CovX)\n",
    "    \n",
    "    V = np.diag(V)\n",
    "    ind = np.argsort(-V)\n",
    "    P = P[:,ind]\n",
    "    P = P.T\n",
    "    \n",
    "    return P"
   ]
  },
  {
   "cell_type": "code",
   "execution_count": 1003,
   "metadata": {},
   "outputs": [],
   "source": [
    "t_par = Training_par()\n",
    "TD_path = t_par.TD_path\n",
    "cls_num = t_par.cls_num\n",
    "b = t_par.b\n",
    "ws = t_par.ws\n",
    "step = t_par.step\n",
    "delta = t_par.delta\n",
    "num_blks = t_par.num_blks\n",
    "\n",
    "coll = io.ImageCollection(TD_path)\n",
    "im_num = len(coll)"
   ]
  },
  {
   "cell_type": "markdown",
   "metadata": {},
   "source": [
    "patches extraction"
   ]
  },
  {
   "cell_type": "code",
   "execution_count": 1004,
   "metadata": {},
   "outputs": [
    {
     "name": "stderr",
     "output_type": "stream",
     "text": [
      "/Applications/anaconda3/envs/tensorflow/lib/python3.6/site-packages/skimage/util/shape.py:247: RuntimeWarning: Cannot provide views on a non-contiguous input array without copying.\n",
      "  warn(RuntimeWarning(\"Cannot provide views on a non-contiguous input \"\n"
     ]
    }
   ],
   "source": [
    "for i in range(im_num):\n",
    "    if coll[i].shape[2] == 3:\n",
    "        lrim = rgb2ycbcr(coll[i])[:,:,0]\n",
    "    else:\n",
    "        lrim = coll[i]\n",
    "    \n",
    "    LP_filter = matlab_style_gauss2D(shape=(7,7),sigma=1.5)\n",
    "    lp_im = conv2(lrim, LP_filter, mode='same', boundary='symm')\n",
    "    hp_im = lrim - lp_im\n",
    "\n",
    "    px = view_as_windows(lrim, b, step)\n",
    "    px = np.reshape(px,(-1, b*b))\n",
    "    py = view_as_windows(hp_im, b, step)\n",
    "    py = np.reshape(py,(-1, b*b))\n",
    "\n",
    "    patch_num = px.shape[0]\n",
    "    patch_num_counted = round(patch_num*0.6)\n",
    "    idx = np.arange(patch_num)\n",
    "    np.random.shuffle(idx)\n",
    "\n",
    "    px = px[idx[0:patch_num_counted],:]\n",
    "    py = py[idx[0:patch_num_counted],:]\n",
    "        \n",
    "    if i == 0:\n",
    "        X = px\n",
    "        Y = py\n",
    "    else:\n",
    "        X = np.concatenate((X, px), axis = 0)\n",
    "        Y = np.concatenate((Y, py), axis = 0)"
   ]
  },
  {
   "cell_type": "markdown",
   "metadata": {},
   "source": [
    "low-variance patches extraction"
   ]
  },
  {
   "cell_type": "code",
   "execution_count": 1005,
   "metadata": {},
   "outputs": [],
   "source": [
    "v = np.std(Y, 1)\n",
    "idx = v >= delta\n",
    "idx2 = v < delta"
   ]
  },
  {
   "cell_type": "code",
   "execution_count": 1006,
   "metadata": {},
   "outputs": [],
   "source": [
    "X0 = X[idx2, :]"
   ]
  },
  {
   "cell_type": "markdown",
   "metadata": {},
   "source": [
    "PCA train on low-variance patches "
   ]
  },
  {
   "cell_type": "code",
   "execution_count": null,
   "metadata": {},
   "outputs": [],
   "source": [
    "#clf0 = PCA(n_components = b*b)\n",
    "#clf0.fit(X0)\n",
    "P0 = get_PCA(X0)"
   ]
  },
  {
   "cell_type": "code",
   "execution_count": 1008,
   "metadata": {},
   "outputs": [],
   "source": [
    "t_par.D0.append(clf0)"
   ]
  },
  {
   "cell_type": "markdown",
   "metadata": {},
   "source": [
    "high-variance patches extraction"
   ]
  },
  {
   "cell_type": "code",
   "execution_count": 1009,
   "metadata": {},
   "outputs": [],
   "source": [
    "X = X[idx, :]\n",
    "Y = Y[idx, :]\n",
    "N = X.shape[0]\n",
    "P = np.arange(N)\n",
    "np.random.shuffle(P)\n",
    "num = min(N, num_blks)\n",
    "P = P[0:num]\n",
    "X = X[P, :]\n",
    "Y = Y[P, :]"
   ]
  },
  {
   "cell_type": "markdown",
   "metadata": {},
   "source": [
    "K-means on the high-variance patches"
   ]
  },
  {
   "cell_type": "code",
   "execution_count": 1010,
   "metadata": {},
   "outputs": [
    {
     "name": "stdout",
     "output_type": "stream",
     "text": [
      "Initialization complete\n",
      "start iteration\n",
      "done sorting\n",
      "end inner loop\n",
      "Iteration 0, inertia 6124984458.536761\n",
      "start iteration\n",
      "done sorting\n",
      "end inner loop\n",
      "Iteration 1, inertia 5858785538.638922\n",
      "start iteration\n",
      "done sorting\n",
      "end inner loop\n",
      "Iteration 2, inertia 5778911294.431654\n",
      "start iteration\n",
      "done sorting\n",
      "end inner loop\n",
      "Iteration 3, inertia 5739550577.97053\n",
      "start iteration\n",
      "done sorting\n",
      "end inner loop\n",
      "Iteration 4, inertia 5715333799.7699\n",
      "start iteration\n",
      "done sorting\n",
      "end inner loop\n",
      "Iteration 5, inertia 5698447501.929578\n",
      "start iteration\n",
      "done sorting\n",
      "end inner loop\n",
      "Iteration 6, inertia 5685723399.640865\n",
      "start iteration\n",
      "done sorting\n",
      "end inner loop\n",
      "Iteration 7, inertia 5675916096.694432\n",
      "start iteration\n",
      "done sorting\n",
      "end inner loop\n",
      "Iteration 8, inertia 5668041551.733097\n",
      "start iteration\n",
      "done sorting\n",
      "end inner loop\n",
      "Iteration 9, inertia 5661655869.72328\n",
      "start iteration\n",
      "done sorting\n",
      "end inner loop\n",
      "Iteration 10, inertia 5656376543.3298645\n",
      "start iteration\n",
      "done sorting\n",
      "end inner loop\n",
      "Iteration 11, inertia 5652132986.940227\n",
      "start iteration\n",
      "done sorting\n",
      "end inner loop\n",
      "Iteration 12, inertia 5648696544.3073\n",
      "start iteration\n",
      "done sorting\n",
      "end inner loop\n",
      "Iteration 13, inertia 5645870565.299817\n",
      "start iteration\n",
      "done sorting\n",
      "end inner loop\n",
      "Iteration 14, inertia 5643478828.188877\n",
      "start iteration\n",
      "done sorting\n",
      "end inner loop\n",
      "Iteration 15, inertia 5641494690.778818\n",
      "start iteration\n",
      "done sorting\n",
      "end inner loop\n",
      "Iteration 16, inertia 5639767083.074344\n",
      "start iteration\n",
      "done sorting\n",
      "end inner loop\n",
      "Iteration 17, inertia 5638165373.255126\n",
      "start iteration\n",
      "done sorting\n",
      "end inner loop\n",
      "Iteration 18, inertia 5636661237.601112\n",
      "start iteration\n",
      "done sorting\n",
      "end inner loop\n",
      "Iteration 19, inertia 5635210137.751381\n",
      "start iteration\n",
      "done sorting\n",
      "end inner loop\n",
      "Iteration 20, inertia 5633848366.406309\n",
      "start iteration\n",
      "done sorting\n",
      "end inner loop\n",
      "Iteration 21, inertia 5632579816.041021\n",
      "start iteration\n",
      "done sorting\n",
      "end inner loop\n",
      "Iteration 22, inertia 5631307851.437881\n",
      "start iteration\n",
      "done sorting\n",
      "end inner loop\n",
      "Iteration 23, inertia 5629937185.572104\n",
      "start iteration\n",
      "done sorting\n",
      "end inner loop\n",
      "Iteration 24, inertia 5628580520.674994\n",
      "start iteration\n",
      "done sorting\n",
      "end inner loop\n",
      "Iteration 25, inertia 5627356126.311015\n",
      "start iteration\n",
      "done sorting\n",
      "end inner loop\n",
      "Iteration 26, inertia 5626248868.0195465\n",
      "start iteration\n",
      "done sorting\n",
      "end inner loop\n",
      "Iteration 27, inertia 5625275193.35609\n",
      "start iteration\n",
      "done sorting\n",
      "end inner loop\n",
      "Iteration 28, inertia 5624399027.165945\n",
      "start iteration\n",
      "done sorting\n",
      "end inner loop\n",
      "Iteration 29, inertia 5623608280.226346\n",
      "start iteration\n",
      "done sorting\n",
      "end inner loop\n",
      "Iteration 30, inertia 5622847801.548393\n",
      "start iteration\n",
      "done sorting\n",
      "end inner loop\n",
      "Iteration 31, inertia 5622167492.961938\n",
      "start iteration\n",
      "done sorting\n",
      "end inner loop\n",
      "Iteration 32, inertia 5621536182.573088\n",
      "start iteration\n",
      "done sorting\n",
      "end inner loop\n",
      "Iteration 33, inertia 5620965219.504111\n",
      "start iteration\n",
      "done sorting\n",
      "end inner loop\n",
      "Iteration 34, inertia 5620453743.612659\n",
      "start iteration\n",
      "done sorting\n",
      "end inner loop\n",
      "Iteration 35, inertia 5619975996.849269\n",
      "start iteration\n",
      "done sorting\n",
      "end inner loop\n",
      "Iteration 36, inertia 5619541688.676618\n",
      "start iteration\n",
      "done sorting\n",
      "end inner loop\n",
      "Iteration 37, inertia 5619141409.468372\n",
      "start iteration\n",
      "done sorting\n",
      "end inner loop\n",
      "Iteration 38, inertia 5618769159.854242\n",
      "start iteration\n",
      "done sorting\n",
      "end inner loop\n",
      "Iteration 39, inertia 5618399509.714211\n",
      "start iteration\n",
      "done sorting\n",
      "end inner loop\n",
      "Iteration 40, inertia 5618052572.872744\n",
      "start iteration\n",
      "done sorting\n",
      "end inner loop\n",
      "Iteration 41, inertia 5617718373.670815\n",
      "start iteration\n",
      "done sorting\n",
      "end inner loop\n",
      "Iteration 42, inertia 5617418549.32559\n",
      "start iteration\n",
      "done sorting\n",
      "end inner loop\n",
      "Iteration 43, inertia 5617126543.951621\n",
      "start iteration\n",
      "done sorting\n",
      "end inner loop\n",
      "Iteration 44, inertia 5616844583.444651\n",
      "start iteration\n",
      "done sorting\n",
      "end inner loop\n",
      "Iteration 45, inertia 5616572416.365626\n",
      "start iteration\n",
      "done sorting\n",
      "end inner loop\n",
      "Iteration 46, inertia 5616306042.04894\n",
      "start iteration\n",
      "done sorting\n",
      "end inner loop\n",
      "Iteration 47, inertia 5616046366.671215\n",
      "start iteration\n",
      "done sorting\n",
      "end inner loop\n",
      "Iteration 48, inertia 5615797267.467614\n",
      "start iteration\n",
      "done sorting\n",
      "end inner loop\n",
      "Iteration 49, inertia 5615552511.581796\n",
      "Initialization complete\n",
      "start iteration\n",
      "done sorting\n",
      "end inner loop\n",
      "Iteration 0, inertia 6131092911.099487\n",
      "start iteration\n",
      "done sorting\n",
      "end inner loop\n",
      "Iteration 1, inertia 5877063193.882841\n",
      "start iteration\n",
      "done sorting\n",
      "end inner loop\n",
      "Iteration 2, inertia 5794657243.2773075\n",
      "start iteration\n",
      "done sorting\n",
      "end inner loop\n",
      "Iteration 3, inertia 5751663318.152418\n",
      "start iteration\n",
      "done sorting\n",
      "end inner loop\n",
      "Iteration 4, inertia 5724550864.465991\n",
      "start iteration\n",
      "done sorting\n",
      "end inner loop\n",
      "Iteration 5, inertia 5705045305.600006\n",
      "start iteration\n",
      "done sorting\n",
      "end inner loop\n",
      "Iteration 6, inertia 5690686837.891296\n",
      "start iteration\n",
      "done sorting\n",
      "end inner loop\n",
      "Iteration 7, inertia 5679981944.007239\n",
      "start iteration\n",
      "done sorting\n",
      "end inner loop\n",
      "Iteration 8, inertia 5671571456.736018\n",
      "start iteration\n",
      "done sorting\n",
      "end inner loop\n",
      "Iteration 9, inertia 5664700190.287857\n",
      "start iteration\n",
      "done sorting\n",
      "end inner loop\n",
      "Iteration 10, inertia 5659029962.603993\n",
      "start iteration\n",
      "done sorting\n",
      "end inner loop\n",
      "Iteration 11, inertia 5654295975.179636\n",
      "start iteration\n",
      "done sorting\n",
      "end inner loop\n",
      "Iteration 12, inertia 5650246576.095107\n",
      "start iteration\n",
      "done sorting\n",
      "end inner loop\n",
      "Iteration 13, inertia 5646728897.562457\n",
      "start iteration\n",
      "done sorting\n",
      "end inner loop\n",
      "Iteration 14, inertia 5643463388.12934\n",
      "start iteration\n",
      "done sorting\n",
      "end inner loop\n",
      "Iteration 15, inertia 5640185843.510038\n",
      "start iteration\n",
      "done sorting\n",
      "end inner loop\n",
      "Iteration 16, inertia 5637150361.715044\n",
      "start iteration\n",
      "done sorting\n",
      "end inner loop\n",
      "Iteration 17, inertia 5634746544.403032\n",
      "start iteration\n",
      "done sorting\n",
      "end inner loop\n",
      "Iteration 18, inertia 5632817195.440191\n",
      "start iteration\n",
      "done sorting\n",
      "end inner loop\n",
      "Iteration 19, inertia 5631150341.536807\n",
      "start iteration\n",
      "done sorting\n",
      "end inner loop\n",
      "Iteration 20, inertia 5629650346.087543\n",
      "start iteration\n",
      "done sorting\n",
      "end inner loop\n",
      "Iteration 21, inertia 5628289736.552791\n",
      "start iteration\n",
      "done sorting\n",
      "end inner loop\n",
      "Iteration 22, inertia 5627063698.686785\n",
      "start iteration\n",
      "done sorting\n",
      "end inner loop\n",
      "Iteration 23, inertia 5625949584.273132\n",
      "start iteration\n",
      "done sorting\n",
      "end inner loop\n",
      "Iteration 24, inertia 5624943601.880563\n",
      "start iteration\n",
      "done sorting\n",
      "end inner loop\n",
      "Iteration 25, inertia 5624032975.198022\n",
      "start iteration\n",
      "done sorting\n",
      "end inner loop\n",
      "Iteration 26, inertia 5623190964.364823\n",
      "start iteration\n",
      "done sorting\n",
      "end inner loop\n",
      "Iteration 27, inertia 5622378216.536151\n",
      "start iteration\n",
      "done sorting\n",
      "end inner loop\n",
      "Iteration 28, inertia 5621606835.413447\n",
      "start iteration\n",
      "done sorting\n",
      "end inner loop\n",
      "Iteration 29, inertia 5620887022.9089775\n",
      "start iteration\n",
      "done sorting\n",
      "end inner loop\n",
      "Iteration 30, inertia 5620192452.828928\n",
      "start iteration\n",
      "done sorting\n",
      "end inner loop\n",
      "Iteration 31, inertia 5619509894.765732\n",
      "start iteration\n",
      "done sorting\n",
      "end inner loop\n",
      "Iteration 32, inertia 5618857848.785607\n",
      "start iteration\n",
      "done sorting\n",
      "end inner loop\n",
      "Iteration 33, inertia 5618226609.374152\n",
      "start iteration\n",
      "done sorting\n",
      "end inner loop\n",
      "Iteration 34, inertia 5617639850.256453\n",
      "start iteration\n",
      "done sorting\n",
      "end inner loop\n",
      "Iteration 35, inertia 5617086155.377987\n",
      "start iteration\n",
      "done sorting\n",
      "end inner loop\n",
      "Iteration 36, inertia 5616560589.705105\n",
      "start iteration\n",
      "done sorting\n",
      "end inner loop\n",
      "Iteration 37, inertia 5616079774.989155\n",
      "start iteration\n",
      "done sorting\n",
      "end inner loop\n",
      "Iteration 38, inertia 5615618475.527252\n",
      "start iteration\n",
      "done sorting\n",
      "end inner loop\n",
      "Iteration 39, inertia 5615159902.50853\n",
      "start iteration\n",
      "done sorting\n",
      "end inner loop\n",
      "Iteration 40, inertia 5614700063.43016\n",
      "start iteration\n",
      "done sorting\n",
      "end inner loop\n",
      "Iteration 41, inertia 5614269853.711292\n",
      "start iteration\n",
      "done sorting\n",
      "end inner loop\n",
      "Iteration 42, inertia 5613854380.742641\n",
      "start iteration\n",
      "done sorting\n",
      "end inner loop\n",
      "Iteration 43, inertia 5613468730.577145\n",
      "start iteration\n",
      "done sorting\n",
      "end inner loop\n",
      "Iteration 44, inertia 5613136103.559483\n",
      "start iteration\n",
      "done sorting\n",
      "end inner loop\n",
      "Iteration 45, inertia 5612842863.029879\n",
      "start iteration\n",
      "done sorting\n",
      "end inner loop\n",
      "Iteration 46, inertia 5612582759.28126\n",
      "start iteration\n",
      "done sorting\n",
      "end inner loop\n"
     ]
    },
    {
     "name": "stdout",
     "output_type": "stream",
     "text": [
      "Iteration 47, inertia 5612340408.342807\n",
      "start iteration\n",
      "done sorting\n",
      "end inner loop\n",
      "Iteration 48, inertia 5612111735.264493\n",
      "start iteration\n",
      "done sorting\n",
      "end inner loop\n",
      "Iteration 49, inertia 5611898205.908244\n"
     ]
    },
    {
     "data": {
      "text/plain": [
       "KMeans(algorithm='auto', copy_x=True, init='k-means++', max_iter=50,\n",
       "    n_clusters=200, n_init=2, n_jobs=1, precompute_distances='auto',\n",
       "    random_state=0, tol=0.0001, verbose=1)"
      ]
     },
     "execution_count": 1010,
     "metadata": {},
     "output_type": "execute_result"
    }
   ],
   "source": [
    "kmeans = KMeans(n_clusters=cls_num, n_init=2, max_iter=50, verbose=1, random_state=0)\n",
    "kmeans.fit(Y)"
   ]
  },
  {
   "cell_type": "code",
   "execution_count": 1011,
   "metadata": {},
   "outputs": [],
   "source": [
    "t_par.Kmeans.append(kmeans)"
   ]
  },
  {
   "cell_type": "markdown",
   "metadata": {},
   "source": [
    "PCA train on high-variance patches clusters"
   ]
  },
  {
   "cell_type": "code",
   "execution_count": 1012,
   "metadata": {},
   "outputs": [],
   "source": [
    "PCA_D = []\n",
    "AR_D = np.zeros((ws*ws-1, cls_num))"
   ]
  },
  {
   "cell_type": "code",
   "execution_count": 1013,
   "metadata": {},
   "outputs": [],
   "source": [
    "def Get_AR(X, ws):\n",
    "    \n",
    "    b2 = X.shape[1]\n",
    "    b = int(np.sqrt(b2))\n",
    "    c = int(np.floor(b/2))\n",
    "    r = int(np.floor(ws/2))\n",
    "\n",
    "    M = np.zeros((b,b))\n",
    "    M[c-r:c+r+1,c-r:c+r+1] = 1\n",
    "    M = M.flatten(order='F')\n",
    "    ind = M==1\n",
    "\n",
    "    X = X[:, ind]\n",
    "    b2 = X.shape[1]\n",
    "\n",
    "    cen = int(np.floor(b2/2))\n",
    "    Y = X[:, cen][:, np.newaxis]\n",
    "    X = np.delete(X, cen, axis=-1)\n",
    "\n",
    "    wei = np.dot(np.dot(np.linalg.inv(np.dot(X.T, X)), X.T),Y)\n",
    "    \n",
    "    return wei"
   ]
  },
  {
   "cell_type": "code",
   "execution_count": 1014,
   "metadata": {},
   "outputs": [],
   "source": [
    "for i in range(cls_num):\n",
    "    idx = kmeans.labels_==i\n",
    "    X1 = X[idx,:]\n",
    "    \n",
    "    # compute the PCA basis\n",
    "    clf = PCA(n_components = b*b)\n",
    "    clf.fit(X1)\n",
    "    t_par.PCA_D.append(clf)\n",
    "    \n",
    "    # compute the AR models\n",
    "    AR = Get_AR(X1, ws)\n",
    "    AR_D[:,i] = np.squeeze(AR, axis = 1)"
   ]
  },
  {
   "cell_type": "code",
   "execution_count": 1015,
   "metadata": {},
   "outputs": [],
   "source": [
    "t_par.AR_D = AR_D"
   ]
  },
  {
   "cell_type": "code",
   "execution_count": 1016,
   "metadata": {},
   "outputs": [],
   "source": [
    "with open('parameter_class/t_par_0.1.pkl','wb') as f:\n",
    "    pickle.dump(t_par, f, pickle.HIGHEST_PROTOCOL)"
   ]
  },
  {
   "cell_type": "markdown",
   "metadata": {},
   "source": [
    "# Testing"
   ]
  },
  {
   "cell_type": "code",
   "execution_count": 1515,
   "metadata": {},
   "outputs": [],
   "source": [
    "with open('parameter_class/t_par_0.1.pkl','rb') as f:\n",
    "    t_par = pickle.load(f)"
   ]
  },
  {
   "cell_type": "code",
   "execution_count": 1600,
   "metadata": {},
   "outputs": [],
   "source": [
    "class Testing_par:\n",
    "    def __init__(self):\n",
    "        self.Test_image_dir = 'Data_set/SR_test_images'\n",
    "        self.image_name = 'Parrots.tif'\n",
    "        self.psf = matlab_style_gauss2D(shape=(7,7),sigma=1.6)\n",
    "        self.scale = 3\n",
    "        self.nSig = 0\n",
    "        self.method = 2\n",
    "        self.cls_num = 200\n",
    "        self.ws = 3\n",
    "        self.win = 7\n",
    "        self.step = 3\n",
    "        self.dic = 2\n",
    "        self.Output_dir = ''\n",
    "        self.delta = 1.6\n",
    "        self.sigma = 1.5\n",
    "        self.tau = 0.08\n",
    "        self.lam = 5.5\n",
    "        self.lam_AR = 0.008\n",
    "        self.lam_NL = 0.04\n",
    "        self.c1 = 0.7\n",
    "        self.lam = 5.5\n",
    "        self.nIter = 999\n",
    "        self.eps = 2*exp(-6)\n",
    "        self.nblk = 10\n",
    "        self.D0 = []\n",
    "        self.PCA_D = []\n",
    "        self.Kmeans = []\n",
    "        self.AR_D = np.zeros((self.ws*self.ws-1, self.cls_num))\n",
    "        self.I = []\n",
    "        self.LR = []\n",
    "        self.B = []"
   ]
  },
  {
   "cell_type": "code",
   "execution_count": 1601,
   "metadata": {},
   "outputs": [],
   "source": [
    "ts_par = Testing_par()\n",
    "\n",
    "ts_par.D0 = t_par.D0\n",
    "ts_par.PCA_D = t_par.PCA_D\n",
    "ts_par.Kmeans = t_par.Kmeans\n",
    "ts_par.AR_D = t_par.AR_D\n",
    "\n",
    "if ts_par.nSig == 0:\n",
    "    ts_par.Output_dir = 'Noiseless_results'\n",
    "else:\n",
    "    ts_par.Output_dir = 'Noisy_results'\n",
    "\n",
    "image_path = ts_par.Test_image_dir + '/' + ts_par.image_name"
   ]
  },
  {
   "cell_type": "code",
   "execution_count": 1602,
   "metadata": {},
   "outputs": [],
   "source": [
    "I = io.imread(image_path)\n",
    "LR = np.zeros(I.shape)\n",
    "LP_filter = matlab_style_gauss2D(shape=(7,7),sigma=1.5)\n",
    "if I.shape[2] == 3:\n",
    "    LR[:,:,0] = conv2(I[:,:,0], LP_filter, mode='same', boundary='symm')\n",
    "    LR[:,:,1] = conv2(I[:,:,1], LP_filter, mode='same', boundary='symm')\n",
    "    LR[:,:,2] = conv2(I[:,:,2], LP_filter, mode='same', boundary='symm')\n",
    "\n",
    "ts_par.I.append(I)\n",
    "ts_par.LR.append(LR[::ts_par.scale,::ts_par.scale,:])"
   ]
  },
  {
   "cell_type": "code",
   "execution_count": 1578,
   "metadata": {
    "code_folding": [
     0
    ]
   },
   "outputs": [],
   "source": [
    "def Set_blur_matrix(par):\n",
    "    \n",
    "    s = par.scale\n",
    "    lh = par.LR[0].shape[0]\n",
    "    lw = par.LR[0].shape[1]\n",
    "    hh = lh*s\n",
    "    hw = lw*s\n",
    "    M = lh*lw\n",
    "    N = hh*hw\n",
    "    \n",
    "    ws = par.psf.shape[0]\n",
    "    t = (ws-1)/2\n",
    "    cen = int(np.floor(ws/2))\n",
    "    ker = par.psf\n",
    "    \n",
    "    nv = ws*ws\n",
    "    nt = nv*M\n",
    "    R = np.zeros((nt,1))\n",
    "    C = np.zeros((nt,1))\n",
    "    V = np.zeros((nt,1))\n",
    "    cnt = 0\n",
    "    \n",
    "    pos = np.arange(N)\n",
    "    pos = np.reshape(pos, (hh,hw), order='F')\n",
    "    \n",
    "    for lrow in range(lh):\n",
    "        for lcol in range(lw):\n",
    "            \n",
    "            row = lrow*s\n",
    "            col = lcol*s\n",
    "            \n",
    "            row_idx = lcol*lh + lrow\n",
    "            \n",
    "            rmin = int(max(row-t, 0))\n",
    "            rmax = int(min(row+t, hh-1))\n",
    "            cmin = int(max(col-t, 0))\n",
    "            cmax = int(min(col+t, hw-1))\n",
    "            sup = pos[rmin:rmax+1, cmin:cmax+1]\n",
    "            col_ind = sup.flatten(order='F')[:,np.newaxis]\n",
    "            \n",
    "            r1 = row-rmin\n",
    "            r2 = rmax-row\n",
    "            c1 = col-cmin\n",
    "            c2 = cmax-col\n",
    "            \n",
    "            ker2 = ker[cen-r1:cen+r2+1, cen-c1:cen+c2+1]\n",
    "            ker2 = ker2.flatten(order='F')[:,np.newaxis]\n",
    "            \n",
    "            nn = col_ind.shape[0]\n",
    "            \n",
    "            R[cnt:cnt+nn, :] = row_idx\n",
    "            C[cnt:cnt+nn, :] = col_ind\n",
    "            V[cnt:cnt+nn, :] = ker2/sum(ker2)\n",
    "            \n",
    "            cnt += nn\n",
    "            \n",
    "    R = R[:cnt,:].flatten().astype(int)\n",
    "    C = C[:cnt,:].flatten().astype(int)\n",
    "    V = V[:cnt,:].flatten()\n",
    "    A = sps.csr_matrix((V, (R, C)), dtype=np.float)\n",
    "    A.eliminate_zeros()\n",
    "    \n",
    "    return A, R, V, C"
   ]
  },
  {
   "cell_type": "code",
   "execution_count": 1579,
   "metadata": {
    "code_folding": [
     0
    ]
   },
   "outputs": [],
   "source": [
    "def Compute_AR_Matrix(hr_im, ts_par):\n",
    "\n",
    "    f = 3\n",
    "    t = 1\n",
    "    ws = 2*t+1\n",
    "    cen = t\n",
    "    tap_num = ws*ws-1\n",
    "    t2 = tap_num/2\n",
    "    \n",
    "    ext_im = np.pad(hr_im, (f,f), 'symmetric')\n",
    "    h = ext_im.shape[0]\n",
    "    w = ext_im.shape[1]\n",
    "    LP_filter = matlab_style_gauss2D(shape=(7,7),sigma=1.5)\n",
    "    lp_im = conv2(ext_im, LP_filter, mode='same', boundary='symm')\n",
    "    hp_im = ext_im-lp_im\n",
    "\n",
    "    b = 2*f+1\n",
    "    N = h-b+1\n",
    "    M = w-b+1\n",
    "    L = N*M\n",
    "    X = np.zeros((b*b,L))\n",
    "    k = 0\n",
    "    for i in range(b):\n",
    "        for j in range(b):\n",
    "            blk = hp_im[i:h-b+i+1, j:w-b+j+1]\n",
    "            blk = blk.flatten(order='F')\n",
    "            X[k,:] = blk.T\n",
    "            k +=1\n",
    "\n",
    "    h = hr_im.shape[0]\n",
    "    w = hr_im.shape[1]\n",
    "    num_mod = 4\n",
    "    pos = np.arange(h*w)\n",
    "    pos = np.reshape(pos, (h,w), order='F')\n",
    "\n",
    "    flag = np.ones((h*w))\n",
    "    v = np.std(X, 0)\n",
    "    idx = v >= ts_par.delta\n",
    "    idx2 = v < ts_par.delta\n",
    "\n",
    "    flag[idx2] = 0\n",
    "    flag = np.reshape(flag, (h,w), order='F')\n",
    "\n",
    "    a = np.ones(ws*ws-1)/(ws*ws-1)\n",
    "\n",
    "    nv = ws*ws\n",
    "    nt = nv*h*w\n",
    "    Codeword = ts_par.Kmeans[0].cluster_centers_\n",
    "    R = np.zeros((nt,1))\n",
    "    C = np.zeros((nt,1))\n",
    "    V = np.zeros((nt,1))\n",
    "    cnt = 0\n",
    "\n",
    "    for row in range(h):\n",
    "        for col in range(w):\n",
    "\n",
    "            off_cen = col*h + row\n",
    "\n",
    "            if flag[row,col] == 0:\n",
    "                mode_par = a\n",
    "            else:\n",
    "                v = X[:, off_cen]\n",
    "                v = np.matlib.repmat(v, 200, 1)\n",
    "                dis = np.sum(np.power(v-Codeword,2), axis=1)\n",
    "                sorted_idx = np.argsort(dis)\n",
    "                w_arr = 1/(dis[sorted_idx[:num_mod]]+ts_par.eps)\n",
    "                w_arr = w_arr/sum(w_arr)\n",
    "                mode_par = ts_par.AR_D[:,sorted_idx[:num_mod]]*np.matlib.repmat(w_arr, 8, 1)\n",
    "                mode_par = np.sum(mode_par, 1)\n",
    "\n",
    "            rmin = int(max(row-t, 0))\n",
    "            rmax = int(min(row+t, h-1))\n",
    "            cmin = int(max(col-t, 0))\n",
    "            cmax = int(min(col+t, h-1))\n",
    "            sup = pos[rmin:rmax+1, cmin:cmax+1]\n",
    "            col_ind = sup.flatten(order='F')[:,np.newaxis]\n",
    "\n",
    "            r1 = row-rmin\n",
    "            r2 = rmax-row\n",
    "            c1 = col-cmin\n",
    "            c2 = cmax-col\n",
    "\n",
    "            AR = np.concatenate((mode_par[:int(t2)], np.zeros(1), mode_par[int(t2):]))\n",
    "            AR = np.reshape(AR, (ws, ws), order='F')\n",
    "            c = np.sum(AR[cen-r1:cen+r2+1, cen-c1:cen+c2+1])\n",
    "            AR = AR/c\n",
    "            AR[cen, cen] = 1\n",
    "            AR = AR[cen-r1:cen+r2+1, cen-c1:cen+c2+1].flatten(order='F')\n",
    "\n",
    "            nn = col_ind.shape[0]\n",
    "\n",
    "            R[cnt:cnt+nn, :] = off_cen\n",
    "            C[cnt:cnt+nn, :] = col_ind\n",
    "            V[cnt:cnt+nn, :] = AR[:,np.newaxis]\n",
    "\n",
    "            cnt += nn\n",
    "\n",
    "    R = R[:cnt,:].flatten().astype(int)\n",
    "    C = C[:cnt,:].flatten().astype(int)\n",
    "    V = V[:cnt,:].flatten()\n",
    "    A = sps.csr_matrix((V, (R, C)), dtype=np.float)\n",
    "    A.eliminate_zeros()\n",
    "    \n",
    "    return A"
   ]
  },
  {
   "cell_type": "code",
   "execution_count": 1580,
   "metadata": {
    "code_folding": [
     0
    ]
   },
   "outputs": [],
   "source": [
    "def Compute_NLM_Matrix(hr_im, ws, ts_par):\n",
    "\n",
    "    S = 12  # search window\n",
    "    f = ws\n",
    "    t = int(np.floor(f/2))\n",
    "    nv = ts_par.nblk\n",
    "    hp = 65\n",
    "\n",
    "    e_im = np.pad(hr_im, (t,t), 'symmetric')\n",
    "    h = hr_im.shape[0]\n",
    "    w = hr_im.shape[1]\n",
    "    nt = nv*h*w\n",
    "    R = np.zeros((nt,1))\n",
    "    C = np.zeros((nt,1))\n",
    "    V = np.zeros((nt,1))\n",
    "\n",
    "    L = h*w\n",
    "    X = np.zeros((f*f, L))\n",
    "    k = 0\n",
    "    for i in range(f):\n",
    "        for j in range(f):\n",
    "            blk = e_im[i:h+i, j:w+j]\n",
    "            blk = blk.flatten(order='F')\n",
    "            X[k,:] = blk.T\n",
    "            k += 1\n",
    "\n",
    "    f2 = pow(f,2)\n",
    "    pos = np.arange(L)\n",
    "    pos = np.reshape(pos, (h,w), order='F')\n",
    "    cnt = 0\n",
    "\n",
    "    for row in range(h):\n",
    "        for col in range(w):\n",
    "\n",
    "            off_cen = col*h+row\n",
    "\n",
    "            rmin = int(max(row-S, 0))\n",
    "            rmax = int(min(row+S, h-1))\n",
    "            cmin = int(max(col-S, 0))\n",
    "            cmax = int(min(col+S, w-1))\n",
    "\n",
    "            sup = pos[rmin:rmax+1, cmin:cmax+1]\n",
    "            col_ind = sup.flatten(order='F')\n",
    "            B = X[:, col_ind]\n",
    "            v = X[:, off_cen][:,np.newaxis]\n",
    "\n",
    "            v_test = np.matlib.repmat(v, 1, B.shape[1])\n",
    "            dis = pow(B-v_test, 2)\n",
    "            dis = np.sum(dis/f2,0)\n",
    "            sorted_idx = np.argsort(dis)\n",
    "            dis[sorted_idx[0]] = dis[sorted_idx[1]]\n",
    "            wei = np.exp(-dis[sorted_idx[:nv]]/hp)\n",
    "\n",
    "            R[cnt:cnt+nv, :] = off_cen\n",
    "            C[cnt:cnt+nv, :] = col_ind[sorted_idx[:nv]][:,np.newaxis]\n",
    "            V[cnt:cnt+nv, :] = wei[:,np.newaxis]/(sum(wei)+np.finfo(float).eps)\n",
    "\n",
    "            cnt += nv\n",
    "\n",
    "    R = R[:cnt,:].flatten().astype(int)\n",
    "    C = C[:cnt,:].flatten().astype(int)\n",
    "    V = V[:cnt,:].flatten()\n",
    "    W1 = sps.csr_matrix((V, (R, C)), dtype=np.float)\n",
    "    W1.eliminate_zeros()\n",
    "\n",
    "    R = np.arange(h*w)\n",
    "    C = np.arange(h*w)\n",
    "    V = np.ones(h*w)\n",
    "    mI = sps.csr_matrix((V, (R, C)), dtype=np.float)\n",
    "\n",
    "    mW = mI - W1\n",
    "    \n",
    "    return mW"
   ]
  },
  {
   "cell_type": "code",
   "execution_count": 1581,
   "metadata": {
    "code_folding": [
     0
    ]
   },
   "outputs": [],
   "source": [
    "def Set_PCA_idx(hr_im, ts_par):\n",
    "\n",
    "    h = hr_im.shape[0]\n",
    "    w = hr_im.shape[1]\n",
    "    LP_filter = matlab_style_gauss2D(shape=(7,7),sigma=1.5)\n",
    "    lp_im = conv2(hr_im, LP_filter, mode='same', boundary='symm')\n",
    "    hp_im = hr_im-lp_im\n",
    "\n",
    "    b = ts_par.win\n",
    "    s = ts_par.step\n",
    "    N = h-b+1\n",
    "    M = w-b+1\n",
    "\n",
    "    r = np.arange(0,N,s)\n",
    "    suf = np.arange(r[-1]+1, N)\n",
    "    r = np.concatenate((r,suf))\n",
    "    c = np.arange(0,M,s)\n",
    "    suf = np.arange(c[-1]+1, M)\n",
    "    c = np.concatenate((c,suf))\n",
    "\n",
    "    L = r.shape[0]*c.shape[0]\n",
    "    X = np.zeros((b*b, L))\n",
    "\n",
    "    r, c = np.meshgrid(r, c)\n",
    "\n",
    "    k = 0\n",
    "    for i in range(b):\n",
    "        for j in range(b):\n",
    "            blk = hp_im[r+i, c+j].T\n",
    "            blk = blk.flatten(order='F')\n",
    "            X[k,:] = blk.T\n",
    "            k += 1\n",
    "\n",
    "    PCA_idx = np.zeros(L)\n",
    "\n",
    "    v = np.std(X, 0)\n",
    "    idx = v >= ts_par.delta\n",
    "    idx2 = v < ts_par.delta\n",
    "\n",
    "    PCA_idx[idx2] = -1\n",
    "\n",
    "    PCA_idx[idx] = ts_par.Kmeans[0].predict(X[:,idx].T)\n",
    "    \n",
    "    return PCA_idx"
   ]
  },
  {
   "cell_type": "code",
   "execution_count": 1582,
   "metadata": {
    "code_folding": [
     0
    ]
   },
   "outputs": [],
   "source": [
    "def find_blks(hr_im, ts_par):\n",
    "    \n",
    "    S = 12\n",
    "    f = ts_par.win\n",
    "    f2 = pow(f,2)\n",
    "    nv = ts_par.nblk\n",
    "    s = ts_par.step\n",
    "    hp = 70\n",
    "\n",
    "    N = hr_im.shape[0]-f+1\n",
    "    M = hr_im.shape[1]-f+1\n",
    "    r = np.arange(0,N,s)\n",
    "    suf = np.arange(r[-1]+1, N)\n",
    "    r = np.concatenate((r,suf))\n",
    "    c = np.arange(0,M,s)\n",
    "    suf = np.arange(c[-1]+1, M)\n",
    "    c = np.concatenate((c,suf))\n",
    "    L = N*M\n",
    "    X = np.zeros((f*f, L))\n",
    "\n",
    "    k = 0\n",
    "    for i in range(f):\n",
    "        for j in range(f):\n",
    "            blk = hr_im[i:h-f+i+1, j:w-f+j+1]\n",
    "            blk = blk.flatten(order='F')\n",
    "            X[k,:] = blk.T\n",
    "            k +=1\n",
    "\n",
    "    pos = np.arange(L)\n",
    "    pos = np.reshape(pos, (N,M), order='F')\n",
    "    cnt = 0\n",
    "\n",
    "    N1 = r.shape[0]\n",
    "    M1 = c.shape[0]\n",
    "    blk_arr = np.zeros((nv, N1*M1))\n",
    "    wei_arr = np.zeros((nv, N1*M1))\n",
    "\n",
    "    for i in range(N1):\n",
    "        for j in range(M1):\n",
    "            row = r[i]\n",
    "            col = c[j]\n",
    "            off = col*N+row\n",
    "            off1 = j*N1+i\n",
    "\n",
    "            rmin = int(max(row-S, 0))\n",
    "            rmax = int(min(row+S, h-1))\n",
    "            cmin = int(max(col-S, 0))\n",
    "            cmax = int(min(col+S, w-1))\n",
    "\n",
    "            sup = pos[rmin:rmax+1, cmin:cmax+1]\n",
    "            col_ind = sup.flatten(order='F')\n",
    "            B = X[:, col_ind]\n",
    "            v = X[:, off][:, np.newaxis]\n",
    "\n",
    "            v_test = np.matlib.repmat(v, 1, B.shape[1])\n",
    "            dis = pow(B-v_test, 2)\n",
    "            dis = np.sum(dis/f2,0)\n",
    "            sorted_idx = np.argsort(dis)\n",
    "            dis[sorted_idx[0]] = dis[sorted_idx[1]]\n",
    "            wei = np.exp(-dis[sorted_idx[:nv]]/hp)\n",
    "            wei = wei[:,np.newaxis]/(sum(wei)+np.finfo(float).eps)\n",
    "\n",
    "            indc = col_ind[sorted_idx[:nv]]\n",
    "            blk_arr[:,off1] = indc\n",
    "            wei_arr[:,off1] = wei.flatten(order='F')\n",
    "    \n",
    "    return blk_arr, wei_arr"
   ]
  },
  {
   "cell_type": "code",
   "execution_count": 1583,
   "metadata": {
    "code_folding": [
     0
    ]
   },
   "outputs": [],
   "source": [
    "def soft(x, tau):\n",
    "    \n",
    "    y = np.sign(x)*np.maximum(abs(x)-tau,0)\n",
    "    \n",
    "    return y"
   ]
  },
  {
   "cell_type": "code",
   "execution_count": 1603,
   "metadata": {},
   "outputs": [],
   "source": [
    "A, R, V, C = Set_blur_matrix(ts_par)"
   ]
  },
  {
   "cell_type": "code",
   "execution_count": 1604,
   "metadata": {},
   "outputs": [],
   "source": [
    "ts_par.B.append(A)"
   ]
  },
  {
   "cell_type": "code",
   "execution_count": 1605,
   "metadata": {},
   "outputs": [
    {
     "name": "stderr",
     "output_type": "stream",
     "text": [
      "/Applications/anaconda3/envs/tensorflow/lib/python3.6/site-packages/ipykernel_launcher.py:2: DeprecationWarning: `imresize` is deprecated!\n",
      "`imresize` is deprecated in SciPy 1.0.0, and will be removed in 1.2.0.\n",
      "Use ``skimage.transform.resize`` instead.\n",
      "  \n",
      "/Applications/anaconda3/envs/tensorflow/lib/python3.6/site-packages/ipykernel_launcher.py:3: DeprecationWarning: `imresize` is deprecated!\n",
      "`imresize` is deprecated in SciPy 1.0.0, and will be removed in 1.2.0.\n",
      "Use ``skimage.transform.resize`` instead.\n",
      "  This is separate from the ipykernel package so we can avoid doing imports until\n",
      "/Applications/anaconda3/envs/tensorflow/lib/python3.6/site-packages/ipykernel_launcher.py:4: DeprecationWarning: `imresize` is deprecated!\n",
      "`imresize` is deprecated in SciPy 1.0.0, and will be removed in 1.2.0.\n",
      "Use ``skimage.transform.resize`` instead.\n",
      "  after removing the cwd from sys.path.\n"
     ]
    }
   ],
   "source": [
    "NNim = np.zeros((ts_par.LR[0].shape[0]*ts_par.scale, ts_par.LR[0].shape[1]*ts_par.scale,ts_par.LR[0].shape[2]))\n",
    "NNim[:,:,0] = imresize(ts_par.LR[0][:,:,0], 300, interp='nearest', mode = 'F')\n",
    "NNim[:,:,1] = imresize(ts_par.LR[0][:,:,1], 300, interp='nearest', mode = 'F')\n",
    "NNim[:,:,2] = imresize(ts_par.LR[0][:,:,2], 300, interp='nearest', mode = 'F')"
   ]
  },
  {
   "cell_type": "code",
   "execution_count": 1635,
   "metadata": {},
   "outputs": [],
   "source": [
    "s = ts_par.scale\n",
    "lr_im = ts_par.LR[0]\n",
    "lh = ts_par.LR[0].shape[0]\n",
    "lw = ts_par.LR[0].shape[1]\n",
    "hh = lh*s\n",
    "hw = lw*s\n",
    "\n",
    "ts_par.delta = 4.5\n",
    "\n",
    "hrim = np.zeros((hh, hw, 3))\n",
    "ori_im = np.zeros((hh, hw))"
   ]
  },
  {
   "cell_type": "code",
   "execution_count": 1636,
   "metadata": {},
   "outputs": [
    {
     "name": "stderr",
     "output_type": "stream",
     "text": [
      "/Applications/anaconda3/envs/tensorflow/lib/python3.6/site-packages/ipykernel_launcher.py:6: DeprecationWarning: `imresize` is deprecated!\n",
      "`imresize` is deprecated in SciPy 1.0.0, and will be removed in 1.2.0.\n",
      "Use ``skimage.transform.resize`` instead.\n",
      "  \n",
      "/Applications/anaconda3/envs/tensorflow/lib/python3.6/site-packages/ipykernel_launcher.py:7: DeprecationWarning: `imresize` is deprecated!\n",
      "`imresize` is deprecated in SciPy 1.0.0, and will be removed in 1.2.0.\n",
      "Use ``skimage.transform.resize`` instead.\n",
      "  import sys\n",
      "/Applications/anaconda3/envs/tensorflow/lib/python3.6/site-packages/ipykernel_launcher.py:8: DeprecationWarning: `imresize` is deprecated!\n",
      "`imresize` is deprecated in SciPy 1.0.0, and will be removed in 1.2.0.\n",
      "Use ``skimage.transform.resize`` instead.\n",
      "  \n"
     ]
    }
   ],
   "source": [
    "b_im = np.zeros((hh,hw,3))\n",
    "if lr_im.shape[2] == 3:\n",
    "    lrim = rgb2ycbcr(lr_im.astype(np.uint8))\n",
    "    lrim = lrim[:,:,0]\n",
    "    \n",
    "    b_im[:,:,0] = imresize(lr_im[:,:,0], 300, interp='bicubic', mode='F')\n",
    "    b_im[:,:,1] = imresize(lr_im[:,:,1], 300, interp='bicubic', mode='F')\n",
    "    b_im[:,:,2] = imresize(lr_im[:,:,2], 300, interp='bicubic', mode='F')\n",
    "    \n",
    "    b_im2 = rgb2ycbcr(b_im.astype(np.uint8))\n",
    "    hrim[:,:,1] = b_im2[:,:,1]\n",
    "    hrim[:,:,2] = b_im2[:,:,2]\n",
    "else:\n",
    "    lrim = lr_im"
   ]
  },
  {
   "cell_type": "code",
   "execution_count": 1637,
   "metadata": {},
   "outputs": [
    {
     "name": "stderr",
     "output_type": "stream",
     "text": [
      "/Applications/anaconda3/envs/tensorflow/lib/python3.6/site-packages/ipykernel_launcher.py:1: DeprecationWarning: `imresize` is deprecated!\n",
      "`imresize` is deprecated in SciPy 1.0.0, and will be removed in 1.2.0.\n",
      "Use ``skimage.transform.resize`` instead.\n",
      "  \"\"\"Entry point for launching an IPython kernel.\n"
     ]
    }
   ],
   "source": [
    "hr_im = imresize(lrim, 300, interp='bicubic', mode='F')\n",
    "h = hr_im.shape[0]\n",
    "w = hr_im.shape[1]\n",
    "h1 = ts_par.I[0].shape[0]\n",
    "w1 = ts_par.I[0].shape[1]\n",
    "\n",
    "y = lrim\n",
    "lam = ts_par.lam\n",
    "\n",
    "BTY = ts_par.B[0].T @ y.flatten(order='F')\n",
    "BTB = ts_par.B[0].T @ ts_par.B[0]\n",
    "Tau = np.empty(1)\n",
    "flag = 0"
   ]
  },
  {
   "cell_type": "code",
   "execution_count": 1638,
   "metadata": {},
   "outputs": [],
   "source": [
    "A = Compute_AR_Matrix(hr_im, ts_par)"
   ]
  },
  {
   "cell_type": "code",
   "execution_count": 1639,
   "metadata": {},
   "outputs": [],
   "source": [
    "N = Compute_NLM_Matrix(hr_im, 5, ts_par)"
   ]
  },
  {
   "cell_type": "code",
   "execution_count": 1640,
   "metadata": {},
   "outputs": [],
   "source": [
    "ATA = (A.T @ A) * ts_par.lam_AR \n",
    "NTN = (N.T @ N) * ts_par.lam_NL"
   ]
  },
  {
   "cell_type": "code",
   "execution_count": 1641,
   "metadata": {},
   "outputs": [],
   "source": [
    "PCA_idx = Set_PCA_idx(hr_im, ts_par)"
   ]
  },
  {
   "cell_type": "code",
   "execution_count": 1642,
   "metadata": {},
   "outputs": [],
   "source": [
    "Arr, Wei = find_blks(hr_im, ts_par)"
   ]
  },
  {
   "cell_type": "code",
   "execution_count": 1643,
   "metadata": {},
   "outputs": [],
   "source": [
    "h = hr_im.shape[0]\n",
    "w = hr_im.shape[1]\n",
    "b = ts_par.win\n",
    "b2 = pow(b,2)\n",
    "s = ts_par.step\n",
    "\n",
    "N = h-b+1\n",
    "M = w-b+1\n",
    "r = np.arange(0,N,s)\n",
    "suf = np.arange(r[-1]+1, N)\n",
    "r = np.concatenate((r,suf))\n",
    "c = np.arange(0,M,s)\n",
    "suf = np.arange(c[-1]+1, M)\n",
    "c = np.concatenate((c,suf))\n",
    "L = N*M\n",
    "X = np.zeros((b2, L))\n",
    "X_m = np.zeros((b2, c.shape[0]*r.shape[0]))\n",
    "\n",
    "k = 0\n",
    "for i in range(b):\n",
    "    for j in range(b):\n",
    "        blk = hr_im[i:h-b+i+1, j:w-b+j+1]\n",
    "        blk = blk.flatten(order='F')\n",
    "        X[k,:] = blk.T\n",
    "        k +=1\n",
    "\n",
    "idx = np.arange(PCA_idx.shape[0])\n",
    "idx_u = idx[PCA_idx!=-1]\n",
    "for i in range(ts_par.nblk):\n",
    "    v = Wei[i,idx_u]\n",
    "    X_m[:,idx_u] = X_m[:,idx_u] + X[:, Arr[i,idx_u].astype(int)]*np.matlib.repmat(v, 49, 1)\n",
    "\n",
    "L = r.shape[0]*c.shape[0]\n",
    "X = np.zeros((b2, L))\n",
    "r, c = np.meshgrid(r, c)\n",
    "\n",
    "k = 0\n",
    "for i in range(b):\n",
    "    for j in range(b):\n",
    "        blk = hr_im[r+i, c+j].T\n",
    "        blk = blk.flatten(order='F')\n",
    "        X[k,:] = blk.T\n",
    "        k += 1\n",
    "\n",
    "N = r.shape[0]\n",
    "M = c.shape[0]\n",
    "Y = np.zeros((b2, L))\n",
    "\n",
    "tau = ts_par.tau\n",
    "\n",
    "PCA_0 = ts_par.D0[0]\n",
    "\n",
    "idx_l = idx[PCA_idx==-1]\n",
    "A = PCA_0.components_\n",
    "mea = np.mean(X[:,idx_l], 1)\n",
    "B = X[:,idx_l]-X_m[:,idx_l]\n",
    "Y[:,idx_l] = np.dot(PCA_0.components_.T, soft(np.dot(PCA_0.components_, B),tau))+X_m[:,idx_l]"
   ]
  },
  {
   "cell_type": "code",
   "execution_count": 1644,
   "metadata": {},
   "outputs": [],
   "source": [
    "for i in range(ts_par.cls_num):\n",
    "    ind = PCA_idx==i\n",
    "    if ind.any():\n",
    "        P = ts_par.PCA_D[i].components_\n",
    "        B = X[:,ind]-X_m[:,ind]\n",
    "        Y[:,ind] = np.dot(P.T, soft(np.dot(P, B),tau)) + X_m[:,ind]"
   ]
  },
  {
   "cell_type": "code",
   "execution_count": 1645,
   "metadata": {},
   "outputs": [],
   "source": [
    "im_out = np.zeros((h,w))\n",
    "im_wei = np.zeros((h,w))\n",
    "k = 0\n",
    "for i in range(b):\n",
    "    for j in range(b):\n",
    "        im_out[r+i, c+j] = im_out[r+i, c+j] + np.reshape(Y[k,:].T,(N,M), order='F')\n",
    "        im_wei[r+i, c+j] = im_wei[r+i, c+j] + 1\n",
    "        k += 1"
   ]
  },
  {
   "cell_type": "code",
   "execution_count": 1646,
   "metadata": {},
   "outputs": [],
   "source": [
    "im_out  =  np.divide(im_out, im_wei+np.finfo(float).eps).T"
   ]
  },
  {
   "cell_type": "code",
   "execution_count": 1647,
   "metadata": {},
   "outputs": [
    {
     "data": {
      "text/plain": [
       "<matplotlib.image.AxesImage at 0x984f2ceb8>"
      ]
     },
     "execution_count": 1647,
     "metadata": {},
     "output_type": "execute_result"
    },
    {
     "data": {
      "image/png": "[encoded data removed]",
      "text/plain": [
       "<Figure size 432x288 with 1 Axes>"
      ]
     },
     "metadata": {},
     "output_type": "display_data"
    }
   ],
   "source": [
    "plt.imshow(im_out)"
   ]
  },
  {
   "cell_type": "code",
   "execution_count": 1620,
   "metadata": {},
   "outputs": [],
   "source": [
    "im_out_2 = im_out"
   ]
  },
  {
   "cell_type": "code",
   "execution_count": 1649,
   "metadata": {},
   "outputs": [
    {
     "data": {
      "text/plain": [
       "<matplotlib.image.AxesImage at 0x978d27358>"
      ]
     },
     "execution_count": 1649,
     "metadata": {},
     "output_type": "execute_result"
    },
    {
     "data": {
      "image/png": "[encoded data removed]",
      "text/plain": [
       "<Figure size 432x288 with 1 Axes>"
      ]
     },
     "metadata": {},
     "output_type": "display_data"
    }
   ],
   "source": [
    "plt.imshow(hr_im-im_out, cmap='gray')"
   ]
  },
  {
   "cell_type": "code",
   "execution_count": 1543,
   "metadata": {},
   "outputs": [
    {
     "data": {
      "text/plain": [
       "(49, 7396)"
      ]
     },
     "execution_count": 1543,
     "metadata": {},
     "output_type": "execute_result"
    }
   ],
   "source": [
    "X_m.shape"
   ]
  },
  {
   "cell_type": "code",
   "execution_count": 1513,
   "metadata": {},
   "outputs": [],
   "source": [
    "h = 4\n",
    "w = 5\n",
    "b = 3\n",
    "b2 = pow(b,2)\n",
    "s = 2\n",
    "\n",
    "N = h-b+1\n",
    "M = w-b+1\n",
    "r = np.arange(0,N,s)\n",
    "suf = np.arange(r[-1]+1, N)\n",
    "r = np.concatenate((r,suf))\n",
    "c = np.arange(0,M,s)\n",
    "suf = np.arange(c[-1]+1, M)\n",
    "c = np.concatenate((c,suf))\n",
    "L = r.shape[0]*c.shape[0]\n",
    "X = np.zeros((b2, L))\n",
    "r, c = np.meshgrid(r, c)\n",
    "\n",
    "k = 0\n",
    "for i in range(b):\n",
    "    for j in range(b):\n",
    "        blk = T[r+i, c+j].T\n",
    "        blk = blk.flatten(order='F')\n",
    "        X[k,:] = blk.T\n",
    "        k += 1"
   ]
  },
  {
   "cell_type": "code",
   "execution_count": 1514,
   "metadata": {},
   "outputs": [
    {
     "data": {
      "text/plain": [
       "array([[ 0.,  1.,  8.,  9.],\n",
       "       [ 4.,  5., 12., 13.],\n",
       "       [ 8.,  9., 16., 17.],\n",
       "       [ 1.,  2.,  9., 10.],\n",
       "       [ 5.,  6., 13., 14.],\n",
       "       [ 9., 10., 17., 18.],\n",
       "       [ 2.,  3., 10., 11.],\n",
       "       [ 6.,  7., 14., 15.],\n",
       "       [10., 11., 18., 19.]])"
      ]
     },
     "execution_count": 1514,
     "metadata": {},
     "output_type": "execute_result"
    }
   ],
   "source": [
    "X"
   ]
  },
  {
   "cell_type": "code",
   "execution_count": 1505,
   "metadata": {},
   "outputs": [
    {
     "data": {
      "text/plain": [
       "array([[ 0.,  1.,  2.,  4.,  5.,  6.,  8.,  9., 10., 12., 13., 14.],\n",
       "       [ 4.,  5.,  6.,  8.,  9., 10., 12., 13., 14., 16., 17., 18.],\n",
       "       [ 1.,  2.,  3.,  5.,  6.,  7.,  9., 10., 11., 13., 14., 15.],\n",
       "       [ 5.,  6.,  7.,  9., 10., 11., 13., 14., 15., 17., 18., 19.]])"
      ]
     },
     "execution_count": 1505,
     "metadata": {},
     "output_type": "execute_result"
    }
   ],
   "source": [
    "X"
   ]
  },
  {
   "cell_type": "code",
   "execution_count": 1510,
   "metadata": {},
   "outputs": [
    {
     "data": {
      "text/plain": [
       "array([[ 0,  1,  2,  4,  5,  6,  8,  9, 10, 12, 13, 14],\n",
       "       [ 1,  2,  3,  5,  6,  7,  9, 10, 11, 13, 14, 15],\n",
       "       [ 4,  5,  6,  8,  9, 10, 12, 13, 14, 16, 17, 18],\n",
       "       [ 5,  6,  7,  9, 10, 11, 13, 14, 15, 17, 18, 19]])"
      ]
     },
     "execution_count": 1510,
     "metadata": {},
     "output_type": "execute_result"
    }
   ],
   "source": [
    "px"
   ]
  },
  {
   "cell_type": "code",
   "execution_count": 1487,
   "metadata": {},
   "outputs": [
    {
     "data": {
      "text/plain": [
       "array([[0.077188  , 0.42650595, 0.22305359, 0.971998  , 0.98721061,\n",
       "        0.06203042, 0.4229056 , 0.21690222, 0.14244273],\n",
       "       [0.42650595, 0.22305359, 0.03401767, 0.98721061, 0.06203042,\n",
       "        0.92783931, 0.21690222, 0.14244273, 0.07388719],\n",
       "       [0.22305359, 0.03401767, 0.48831489, 0.06203042, 0.92783931,\n",
       "        0.13018372, 0.14244273, 0.07388719, 0.43717022],\n",
       "       [0.971998  , 0.98721061, 0.06203042, 0.4229056 , 0.21690222,\n",
       "        0.14244273, 0.69457523, 0.09729774, 0.57572006],\n",
       "       [0.98721061, 0.06203042, 0.92783931, 0.21690222, 0.14244273,\n",
       "        0.07388719, 0.09729774, 0.57572006, 0.52969697],\n",
       "       [0.06203042, 0.92783931, 0.13018372, 0.14244273, 0.07388719,\n",
       "        0.43717022, 0.57572006, 0.52969697, 0.92939408],\n",
       "       [0.4229056 , 0.21690222, 0.14244273, 0.69457523, 0.09729774,\n",
       "        0.57572006, 0.33934976, 0.26001639, 0.45471699],\n",
       "       [0.21690222, 0.14244273, 0.07388719, 0.09729774, 0.57572006,\n",
       "        0.52969697, 0.26001639, 0.45471699, 0.33621398],\n",
       "       [0.14244273, 0.07388719, 0.43717022, 0.57572006, 0.52969697,\n",
       "        0.92939408, 0.45471699, 0.33621398, 0.4765693 ]])"
      ]
     },
     "execution_count": 1487,
     "metadata": {},
     "output_type": "execute_result"
    }
   ],
   "source": [
    "px"
   ]
  },
  {
   "cell_type": "code",
   "execution_count": null,
   "metadata": {},
   "outputs": [],
   "source": []
  }
 ],
 "metadata": {
  "kernelspec": {
   "display_name": "Python 3",
   "language": "python",
   "name": "python3"
  },
  "language_info": {
   "codemirror_mode": {
    "name": "ipython",
    "version": 3
   },
   "file_extension": ".py",
   "mimetype": "text/x-python",
   "name": "python",
   "nbconvert_exporter": "python",
   "pygments_lexer": "ipython3",
   "version": "3.6.4"
  },
  "toc": {
   "base_numbering": 1,
   "nav_menu": {},
   "number_sections": true,
   "sideBar": true,
   "skip_h1_title": false,
   "title_cell": "Table of Contents",
   "title_sidebar": "Contents",
   "toc_cell": false,
   "toc_position": {},
   "toc_section_display": true,
   "toc_window_display": false
  }
 },
 "nbformat": 4,
 "nbformat_minor": 2
}
